{
 "cells": [
  {
   "cell_type": "markdown",
   "id": "1fa50b86-021e-4c3a-8b8e-57c9a273afb1",
   "metadata": {},
   "source": [
    "# Project Structure (Frontend)"
   ]
  },
  {
   "cell_type": "code",
   "execution_count": null,
   "id": "e5331e80-4005-4ce0-a65a-081bbc3edb45",
   "metadata": {},
   "outputs": [],
   "source": [
    "university_admission_chatbot/\n",
    "├── app.py          \n",
    "├── static/\n",
    "│   └── style.css   \n",
    "├── templates/\n",
    "│   └── index.html  \n",
    "└── chatbot.py      "
   ]
  },
  {
   "cell_type": "markdown",
   "id": "f100c574-a1ae-49a6-918e-413b5fc1e179",
   "metadata": {},
   "source": [
    "# app.py – Flask Backend (Minimal)"
   ]
  },
  {
   "cell_type": "code",
   "execution_count": 5,
   "id": "98d91b35-fd4a-44d5-b914-06cdd09ca5e4",
   "metadata": {},
   "outputs": [
    {
     "name": "stdout",
     "output_type": "stream",
     "text": [
      " * Serving Flask app '__main__'\n",
      " * Debug mode: on\n"
     ]
    },
    {
     "name": "stderr",
     "output_type": "stream",
     "text": [
      "WARNING: This is a development server. Do not use it in a production deployment. Use a production WSGI server instead.\n",
      " * Running on http://127.0.0.1:5000\n",
      "Press CTRL+C to quit\n",
      " * Restarting with watchdog (windowsapi)\n"
     ]
    },
    {
     "ename": "SystemExit",
     "evalue": "1",
     "output_type": "error",
     "traceback": [
      "An exception has occurred, use %tb to see the full traceback.\n",
      "\u001b[1;31mSystemExit\u001b[0m\u001b[1;31m:\u001b[0m 1\n"
     ]
    },
    {
     "name": "stderr",
     "output_type": "stream",
     "text": [
      "C:\\Users\\zain\\anaconda3\\Lib\\site-packages\\IPython\\core\\interactiveshell.py:3585: UserWarning: To exit: use 'exit', 'quit', or Ctrl-D.\n",
      "  warn(\"To exit: use 'exit', 'quit', or Ctrl-D.\", stacklevel=1)\n"
     ]
    }
   ],
   "source": [
    "from flask import Flask, render_template, request\n",
    "import random\n",
    "\n",
    "app = Flask(__name__)\n",
    "\n",
    "\n",
    "def get_bot_response(user_input):\n",
    "    responses = {\n",
    "        'admission': \"University admission is open from May 1st to June 30th.\",\n",
    "        'courses': \"We offer courses in Computer Science, Business, Engineering, and more.\",\n",
    "        'eligibility': \"To be eligible, you need a high school diploma with at least 60% marks.\",\n",
    "        'contact': \"You can contact us at admission@university.edu or call us at 123-456-7890.\"\n",
    "    }\n",
    "    \n",
    "    for keyword in responses:\n",
    "        if keyword in user_input.lower():\n",
    "            return responses[keyword]\n",
    "    return \"Sorry, I didn't understand that. Please ask about admission, courses, eligibility, or contact.\"\n",
    "\n",
    "@app.route('/')\n",
    "def home():\n",
    "    return render_template('index.html')\n",
    "\n",
    "@app.route('/get', methods=['GET', 'POST'])\n",
    "def get_bot_reply():\n",
    "    user_input = request.args.get('msg')\n",
    "    bot_response = get_bot_response(user_input)\n",
    "    return bot_response\n",
    "\n",
    "\n",
    "if __name__ == \"__main__\":\n",
    "    app.run(debug=True)"
   ]
  },
  {
   "cell_type": "markdown",
   "id": "779201ab-fd3f-4417-bc2a-3176604f33af",
   "metadata": {},
   "source": [
    "# static/style.css – Chatbot Styling"
   ]
  },
  {
   "cell_type": "code",
   "execution_count": null,
   "id": "b1f3c1de-1b21-41a1-9535-6eb2f0c5e572",
   "metadata": {},
   "outputs": [],
   "source": [
    "body {\n",
    "    font-family: Arial, sans-serif;\n",
    "    background-color: #f4f4f9;\n",
    "    display: flex;\n",
    "    justify-content: center;\n",
    "    align-items: center;\n",
    "    height: 100vh;\n",
    "    margin: 0;\n",
    "}\n",
    "\n",
    "#chatbox {\n",
    "    width: 350px;\n",
    "    height: 500px;\n",
    "    background: white;\n",
    "    box-shadow: 0px 5px 15px rgba(0, 0, 0, 0.1);\n",
    "    border-radius: 10px;\n",
    "    display: flex;\n",
    "    flex-direction: column;\n",
    "    padding: 20px;\n",
    "    overflow-y: auto;\n",
    "}\n",
    "\n",
    "#chat-area {\n",
    "    flex: 1;\n",
    "    overflow-y: scroll;\n",
    "    margin-bottom: 20px;\n",
    "}\n",
    "\n",
    "#chatbox input {\n",
    "    width: 100%;\n",
    "    padding: 10px;\n",
    "    border: 1px solid #ddd;\n",
    "    border-radius: 5px;\n",
    "    font-size: 14px;\n",
    "}\n",
    "\n",
    "button {\n",
    "    width: 100%;\n",
    "    padding: 10px;\n",
    "    background-color: #4CAF50;\n",
    "    border: none;\n",
    "    border-radius: 5px;\n",
    "    color: white;\n",
    "    cursor: pointer;\n",
    "}\n",
    "\n",
    "button:hover {\n",
    "    background-color: #45a049;\n",
    "}\n",
    "\n",
    ".message {\n",
    "    padding: 8px;\n",
    "    margin: 5px;\n",
    "    border-radius: 5px;\n",
    "    max-width: 80%;\n",
    "}\n",
    "\n",
    ".user-message {\n",
    "    background-color: #e1f5fe;\n",
    "    align-self: flex-start;\n",
    "}\n",
    "\n",
    ".bot-message {\n",
    "    background-color: #e8eaf6;\n",
    "    align-self: flex-end;\n",
    "}"
   ]
  },
  {
   "cell_type": "markdown",
   "id": "39f7af5b-972f-4fbe-b8e5-8ff862a5d4f7",
   "metadata": {},
   "source": [
    "# templates/index.html – Chatbot Interface (HTML + JS)"
   ]
  },
  {
   "cell_type": "code",
   "execution_count": null,
   "id": "4e2c934f-96df-4857-aea8-a71128157a41",
   "metadata": {},
   "outputs": [],
   "source": [
    "<!DOCTYPE html>\n",
    "<html lang=\"en\">\n",
    "<head>\n",
    "    <meta charset=\"UTF-8\">\n",
    "    <meta name=\"viewport\" content=\"width=device-width, initial-scale=1.0\">\n",
    "    <title>University Admission Chatbot</title>\n",
    "    <link rel=\"stylesheet\" href=\"{{ url_for('static', filename='style.css') }}\">\n",
    "</head>\n",
    "<body>\n",
    "\n",
    "<div id=\"chatbox\">\n",
    "    <div id=\"chat-area\"></div>\n",
    "    <input type=\"text\" id=\"user-input\" placeholder=\"Ask about admission...\" autofocus>\n",
    "    <button onclick=\"sendMessage()\">Send</button>\n",
    "</div>\n",
    "\n",
    "<script>\n",
    "    function appendMessage(message, sender) {\n",
    "        const chatArea = document.getElementById('chat-area');\n",
    "        const msgDiv = document.createElement('div');\n",
    "        msgDiv.classList.add('message', sender === 'user' ? 'user-message' : 'bot-message');\n",
    "        msgDiv.textContent = message;\n",
    "        chatArea.appendChild(msgDiv);\n",
    "        chatArea.scrollTop = chatArea.scrollHeight;\n",
    "    }\n",
    "\n",
    "    function sendMessage() {\n",
    "        const userInput = document.getElementById('user-input').value;\n",
    "        if (userInput.trim() === '') return;\n",
    "\n",
    "        appendMessage(userInput, 'user');\n",
    "        document.getElementById('user-input').value = '';\n",
    "\n",
    "        // Send user input to Flask server\n",
    "        fetch(`/get?msg=${userInput}`)\n",
    "            .then(response => response.text())\n",
    "            .then(data => {\n",
    "                appendMessage(data, 'bot');\n",
    "            })\n",
    "            .catch(error => {\n",
    "                appendMessage(\"Sorry, there was an error. Please try again.\", 'bot');\n",
    "            });\n",
    "    }\n",
    "\n",
    "    // Optional: Handle Enter key press\n",
    "    document.getElementById('user-input').addEventListener('keypress', function (e) {\n",
    "        if (e.key === 'Enter') {\n",
    "            sendMessage();\n",
    "        }\n",
    "    });\n",
    "</script>\n",
    "\n",
    "</body>\n",
    "</html>"
   ]
  },
  {
   "cell_type": "markdown",
   "id": "860a6cd8-62db-479d-80f4-1d618f2d4cdb",
   "metadata": {},
   "source": [
    "# Run the App:\n",
    "# Start Flask Backend:"
   ]
  },
  {
   "cell_type": "code",
   "execution_count": null,
   "id": "640ecf3c-9271-4d74-9da3-26603f4928eb",
   "metadata": {},
   "outputs": [],
   "source": []
  }
 ],
 "metadata": {
  "kernelspec": {
   "display_name": "Python 3 (ipykernel)",
   "language": "python",
   "name": "python3"
  },
  "language_info": {
   "codemirror_mode": {
    "name": "ipython",
    "version": 3
   },
   "file_extension": ".py",
   "mimetype": "text/x-python",
   "name": "python",
   "nbconvert_exporter": "python",
   "pygments_lexer": "ipython3",
   "version": "3.12.4"
  }
 },
 "nbformat": 4,
 "nbformat_minor": 5
}
