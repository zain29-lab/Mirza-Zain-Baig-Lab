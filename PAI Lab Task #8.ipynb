{
 "cells": [
  {
   "cell_type": "markdown",
   "id": "c58717f5-2f06-49bd-bd5d-534d892e38cd",
   "metadata": {},
   "source": [
    "# Project Structure "
   ]
  },
  {
   "cell_type": "code",
   "execution_count": null,
   "id": "a888d8e3-4394-4d6c-9acd-5328fc4017a0",
   "metadata": {},
   "outputs": [],
   "source": [
    "lab8_nasa_app/\n",
    "├── app.py\n",
    "├── static/\n",
    "│   └── style.css\n",
    "├── templates/\n",
    "│   ├── index.html\n",
    "│   ├── apod.html\n",
    "│   └── mars.html"
   ]
  },
  {
   "cell_type": "markdown",
   "id": "7a26a770-ef7b-44a7-a501-3be7eb3bcdc2",
   "metadata": {},
   "source": [
    "# app.py – Flask Backend"
   ]
  },
  {
   "cell_type": "code",
   "execution_count": 5,
   "id": "3682690b-8f37-43bc-b1e9-ad1e67ceba3a",
   "metadata": {},
   "outputs": [
    {
     "name": "stdout",
     "output_type": "stream",
     "text": [
      " * Serving Flask app '__main__'\n",
      " * Debug mode: on\n"
     ]
    },
    {
     "name": "stderr",
     "output_type": "stream",
     "text": [
      "WARNING: This is a development server. Do not use it in a production deployment. Use a production WSGI server instead.\n",
      " * Running on http://127.0.0.1:5000\n",
      "Press CTRL+C to quit\n",
      " * Restarting with watchdog (windowsapi)\n"
     ]
    },
    {
     "ename": "SystemExit",
     "evalue": "1",
     "output_type": "error",
     "traceback": [
      "An exception has occurred, use %tb to see the full traceback.\n",
      "\u001b[1;31mSystemExit\u001b[0m\u001b[1;31m:\u001b[0m 1\n"
     ]
    },
    {
     "name": "stderr",
     "output_type": "stream",
     "text": [
      "C:\\Users\\zain\\anaconda3\\Lib\\site-packages\\IPython\\core\\interactiveshell.py:3585: UserWarning: To exit: use 'exit', 'quit', or Ctrl-D.\n",
      "  warn(\"To exit: use 'exit', 'quit', or Ctrl-D.\", stacklevel=1)\n"
     ]
    }
   ],
   "source": [
    "from flask import Flask, render_template, request\n",
    "import requests\n",
    "\n",
    "app = Flask(__name__)\n",
    "NASA_API_KEY = \"DEMO_KEY\"\n",
    "NASA_BASE_URL = \"https://api.nasa.gov\"\n",
    "\n",
    "\n",
    "@app.route('/')\n",
    "def index():\n",
    "    return render_template(\"index.html\")\n",
    "\n",
    "\n",
    "@app.route('/apod', methods=['GET', 'POST'])\n",
    "def apod():\n",
    "    apod_data = None\n",
    "    if request.method == 'POST':\n",
    "        date = request.form.get('date')\n",
    "        url = f\"{NASA_BASE_URL}/planetary/apod?api_key={NASA_API_KEY}&date={date}\"\n",
    "        response = requests.get(url)\n",
    "        apod_data = response.json()\n",
    "    return render_template(\"apod.html\", data=apod_data)\n",
    "\n",
    "\n",
    "@app.route('/mars', methods=['GET', 'POST'])\n",
    "def mars():\n",
    "    mars_data = None\n",
    "    if request.method == 'POST':\n",
    "        sol = request.form.get('sol', '1000')\n",
    "        rover = request.form.get('rover', 'curiosity')\n",
    "        url = f\"{NASA_BASE_URL}/mars-photos/api/v1/rovers/{rover}/photos?sol={sol}&api_key={NASA_API_KEY}\"\n",
    "        response = requests.get(url)\n",
    "        mars_data = response.json()\n",
    "    return render_template(\"mars.html\", data=mars_data)\n",
    "\n",
    "\n",
    "if __name__ == '__main__':\n",
    "    app.run(debug=True)"
   ]
  },
  {
   "cell_type": "markdown",
   "id": "ba1072f2-cd38-4c63-9ac8-548ba542d23c",
   "metadata": {},
   "source": [
    "# static/style.css"
   ]
  },
  {
   "cell_type": "code",
   "execution_count": null,
   "id": "4b3521de-17be-4d72-a915-c0c746dd29a7",
   "metadata": {},
   "outputs": [],
   "source": [
    "body {\n",
    "    font-family: Arial, sans-serif;\n",
    "    background-color: #0c0c1b;\n",
    "    color: #f2f2f2;\n",
    "    text-align: center;\n",
    "}\n",
    "\n",
    "form {\n",
    "    margin: 20px;\n",
    "}\n",
    "\n",
    "input, select, button {\n",
    "    padding: 10px;\n",
    "    margin: 10px;\n",
    "    border-radius: 5px;\n",
    "}\n",
    "\n",
    "img {\n",
    "    max-width: 80%;\n",
    "    margin-top: 20px;\n",
    "}\n"
   ]
  },
  {
   "cell_type": "code",
   "execution_count": null,
   "id": "651b4c6d-24e1-4842-a567-2241f16bff2b",
   "metadata": {},
   "outputs": [],
   "source": []
  }
 ],
 "metadata": {
  "kernelspec": {
   "display_name": "Python 3 (ipykernel)",
   "language": "python",
   "name": "python3"
  },
  "language_info": {
   "codemirror_mode": {
    "name": "ipython",
    "version": 3
   },
   "file_extension": ".py",
   "mimetype": "text/x-python",
   "name": "python",
   "nbconvert_exporter": "python",
   "pygments_lexer": "ipython3",
   "version": "3.12.4"
  }
 },
 "nbformat": 4,
 "nbformat_minor": 5
}
