{
 "cells": [
  {
   "cell_type": "code",
   "execution_count": 1,
   "id": "63826116-5446-476a-b632-5a0d4d877314",
   "metadata": {},
   "outputs": [
    {
     "name": "stdout",
     "output_type": "stream",
     "text": [
      "Requirement already satisfied: flask in c:\\users\\zain\\anaconda3\\lib\\site-packages (3.0.3)\n",
      "Requirement already satisfied: requests in c:\\users\\zain\\anaconda3\\lib\\site-packages (2.32.2)\n",
      "Requirement already satisfied: Werkzeug>=3.0.0 in c:\\users\\zain\\anaconda3\\lib\\site-packages (from flask) (3.0.3)\n",
      "Requirement already satisfied: Jinja2>=3.1.2 in c:\\users\\zain\\anaconda3\\lib\\site-packages (from flask) (3.1.4)\n",
      "Requirement already satisfied: itsdangerous>=2.1.2 in c:\\users\\zain\\anaconda3\\lib\\site-packages (from flask) (2.2.0)\n",
      "Requirement already satisfied: click>=8.1.3 in c:\\users\\zain\\anaconda3\\lib\\site-packages (from flask) (8.1.7)\n",
      "Requirement already satisfied: blinker>=1.6.2 in c:\\users\\zain\\anaconda3\\lib\\site-packages (from flask) (1.6.2)\n",
      "Requirement already satisfied: charset-normalizer<4,>=2 in c:\\users\\zain\\anaconda3\\lib\\site-packages (from requests) (2.0.4)\n",
      "Requirement already satisfied: idna<4,>=2.5 in c:\\users\\zain\\anaconda3\\lib\\site-packages (from requests) (3.7)\n",
      "Requirement already satisfied: urllib3<3,>=1.21.1 in c:\\users\\zain\\anaconda3\\lib\\site-packages (from requests) (2.2.2)\n",
      "Requirement already satisfied: certifi>=2017.4.17 in c:\\users\\zain\\anaconda3\\lib\\site-packages (from requests) (2024.6.2)\n",
      "Requirement already satisfied: colorama in c:\\users\\zain\\anaconda3\\lib\\site-packages (from click>=8.1.3->flask) (0.4.6)\n",
      "Requirement already satisfied: MarkupSafe>=2.0 in c:\\users\\zain\\anaconda3\\lib\\site-packages (from Jinja2>=3.1.2->flask) (2.1.3)\n",
      "Note: you may need to restart the kernel to use updated packages.\n"
     ]
    }
   ],
   "source": [
    "pip install flask requests"
   ]
  },
  {
   "cell_type": "markdown",
   "id": "c69b4701-bae4-4883-9bf2-cbffdf8916b0",
   "metadata": {},
   "source": [
    "# Project Structure:"
   ]
  },
  {
   "cell_type": "code",
   "execution_count": null,
   "id": "3ad8f9a0-be6f-49b8-8aa0-aed75f2b5365",
   "metadata": {},
   "outputs": [],
   "source": [
    "nasa_app/\n",
    "├── app.py\n",
    "└── templates/\n",
    "    └── index.html (optional if rendering templates)"
   ]
  },
  {
   "cell_type": "markdown",
   "id": "099576c4-fedc-41e3-a406-2b24054a707d",
   "metadata": {},
   "source": [
    "# app.py – Flask Backend"
   ]
  },
  {
   "cell_type": "code",
   "execution_count": 9,
   "id": "316f11fc-23e8-4dac-8ab9-0b7a97b4d0ac",
   "metadata": {},
   "outputs": [
    {
     "name": "stdout",
     "output_type": "stream",
     "text": [
      " * Serving Flask app '__main__'\n",
      " * Debug mode: on\n"
     ]
    },
    {
     "name": "stderr",
     "output_type": "stream",
     "text": [
      "WARNING: This is a development server. Do not use it in a production deployment. Use a production WSGI server instead.\n",
      " * Running on http://127.0.0.1:5000\n",
      "Press CTRL+C to quit\n",
      " * Restarting with watchdog (windowsapi)\n"
     ]
    },
    {
     "ename": "SystemExit",
     "evalue": "1",
     "output_type": "error",
     "traceback": [
      "An exception has occurred, use %tb to see the full traceback.\n",
      "\u001b[1;31mSystemExit\u001b[0m\u001b[1;31m:\u001b[0m 1\n"
     ]
    },
    {
     "name": "stderr",
     "output_type": "stream",
     "text": [
      "C:\\Users\\zain\\anaconda3\\Lib\\site-packages\\IPython\\core\\interactiveshell.py:3585: UserWarning: To exit: use 'exit', 'quit', or Ctrl-D.\n",
      "  warn(\"To exit: use 'exit', 'quit', or Ctrl-D.\", stacklevel=1)\n"
     ]
    }
   ],
   "source": [
    "from flask import Flask, jsonify, request\n",
    "import requests\n",
    "\n",
    "app = Flask(__name__)\n",
    "\n",
    "# 🔑 Replace with your own NASA API key\n",
    "NASA_API_KEY = \"DEMO_KEY\"\n",
    "NASA_BASE_URL = \"https://api.nasa.gov\"\n",
    "\n",
    "\n",
    "@app.route('/')\n",
    "def home():\n",
    "    return jsonify({\"message\": \"Welcome to the NASA API Flask Backend\"})\n",
    "\n",
    "\n",
    "@app.route('/apod', methods=['GET'])\n",
    "def get_apod():\n",
    "    date = request.args.get('date')  # e.g. ?date=2024-04-20\n",
    "    url = f\"{NASA_BASE_URL}/planetary/apod?api_key={NASA_API_KEY}\"\n",
    "    if date:\n",
    "        url += f\"&date={date}\"\n",
    "    response = requests.get(url)\n",
    "    return jsonify(response.json())\n",
    "\n",
    "\n",
    "@app.route('/mars-rover', methods=['GET'])\n",
    "def get_mars_photos():\n",
    "    rover = request.args.get('rover', 'curiosity')  # 'curiosity', 'opportunity', 'spirit'\n",
    "    sol = request.args.get('sol', '1000')\n",
    "    url = f\"{NASA_BASE_URL}/mars-photos/api/v1/rovers/{rover}/photos\"\n",
    "    params = {\n",
    "        \"sol\": sol,\n",
    "        \"api_key\": NASA_API_KEY\n",
    "    }\n",
    "    response = requests.get(url, params=params)\n",
    "    return jsonify(response.json())\n",
    "\n",
    "\n",
    "if __name__ == '__main__':\n",
    "    app.run(debug=True)"
   ]
  },
  {
   "cell_type": "markdown",
   "id": "0fd71c39-2514-4d3d-812d-09ca1805e9b9",
   "metadata": {},
   "source": [
    "# Example Usage (Test via browser or Postman):\n",
    "# Astronomy Picture of the Day:"
   ]
  },
  {
   "cell_type": "code",
   "execution_count": null,
   "id": "41c424a0-c4b4-4fda-869c-9281d7bed668",
   "metadata": {},
   "outputs": [],
   "source": [
    "http://localhost:5000/apod\n",
    "http://localhost:5000/apod?date=2024-04-01\n"
   ]
  },
  {
   "cell_type": "markdown",
   "id": "d7744bb3-cca7-43f1-9d3a-9e8dbe17beed",
   "metadata": {},
   "source": [
    "# Mars Rover Images:"
   ]
  },
  {
   "cell_type": "code",
   "execution_count": null,
   "id": "21030fb1-54d1-4613-8542-314dbb155f75",
   "metadata": {},
   "outputs": [],
   "source": [
    "http://localhost:5000/mars-rover\n",
    "http://localhost:5000/mars-rover?sol=500&rover=spirit\n"
   ]
  },
  {
   "cell_type": "code",
   "execution_count": null,
   "id": "6f4e711e-622b-4bce-a8dd-96d3ddd6daa4",
   "metadata": {},
   "outputs": [],
   "source": []
  }
 ],
 "metadata": {
  "kernelspec": {
   "display_name": "Python 3 (ipykernel)",
   "language": "python",
   "name": "python3"
  },
  "language_info": {
   "codemirror_mode": {
    "name": "ipython",
    "version": 3
   },
   "file_extension": ".py",
   "mimetype": "text/x-python",
   "name": "python",
   "nbconvert_exporter": "python",
   "pygments_lexer": "ipython3",
   "version": "3.12.4"
  }
 },
 "nbformat": 4,
 "nbformat_minor": 5
}
