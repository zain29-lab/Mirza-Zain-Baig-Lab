{
 "cells": [
  {
   "cell_type": "markdown",
   "id": "a7fe11b3-c7fc-4887-adec-48f388ea6665",
   "metadata": {},
   "source": [
    "# How to Convert Lab 10 Chatbot to Lab 12 QnA Bot"
   ]
  },
  {
   "cell_type": "code",
   "execution_count": 2,
   "id": "e8739a56-e17d-4530-9220-1de35364b35a",
   "metadata": {},
   "outputs": [],
   "source": [
    "# Step 1: Define the QnA pairs (like your rule-based system)\n",
    "qa_pairs = {\n",
    "    \"admission\": \"The admission process starts in June. You need to fill the online form and submit required documents.\",\n",
    "    \"courses\": \"We offer B.Tech, BBA, B.Sc, M.Tech, and MBA programs.\",\n",
    "    \"eligibility\": \"Eligibility: 10+2 with minimum 60% for UG, and Graduation for PG courses.\",\n",
    "    \"fees\": \"The average fee is INR 1,00,000 per year. It varies by course.\",\n",
    "    \"contact\": \"You can contact us at admission@university.edu or call +91-1234567890.\"\n",
    "}"
   ]
  },
  {
   "cell_type": "code",
   "execution_count": 4,
   "id": "094d58bd-ac5c-4a3b-8df8-54fa6b8a1def",
   "metadata": {},
   "outputs": [],
   "source": [
    "# Step 2: Define a function to handle user input\n",
    "def get_response(user_input):\n",
    "    user_input = user_input.lower()\n",
    "    for keyword in qa_pairs:\n",
    "        if keyword in user_input:\n",
    "            return qa_pairs[keyword]\n",
    "    return \"Sorry, I didn’t understand. Can you rephrase?\""
   ]
  },
  {
   "cell_type": "code",
   "execution_count": null,
   "id": "168d04f0-bf70-4116-827f-f3fd7c07e0db",
   "metadata": {},
   "outputs": [],
   "source": [
    "# Step 3: Chat loop (in Jupyter)\n",
    "while True:\n",
    "    user = input(\"You: \")\n",
    "    if user.lower() in ['exit', 'quit']:\n",
    "        print(\"Bot: Goodbye!\")\n",
    "        break\n",
    "    response = get_response(user)\n",
    "    print(f\"Bot: {response}\")"
   ]
  },
  {
   "cell_type": "code",
   "execution_count": null,
   "id": "cb313cbb-b5d3-4eab-ae42-aa81ce4cfa78",
   "metadata": {},
   "outputs": [],
   "source": []
  }
 ],
 "metadata": {
  "kernelspec": {
   "display_name": "Python 3 (ipykernel)",
   "language": "python",
   "name": "python3"
  },
  "language_info": {
   "codemirror_mode": {
    "name": "ipython",
    "version": 3
   },
   "file_extension": ".py",
   "mimetype": "text/x-python",
   "name": "python",
   "nbconvert_exporter": "python",
   "pygments_lexer": "ipython3",
   "version": "3.12.4"
  }
 },
 "nbformat": 4,
 "nbformat_minor": 5
}
